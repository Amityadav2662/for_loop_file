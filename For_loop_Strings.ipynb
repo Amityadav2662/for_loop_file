{
 "cells": [
  {
   "cell_type": "markdown",
   "id": "43e882ec-af66-427b-aff4-944312021618",
   "metadata": {},
   "source": [
    "# STRINGS"
   ]
  },
  {
   "cell_type": "code",
   "execution_count": 5,
   "id": "a09270c4-31ac-4384-8adb-90b4adc40bb0",
   "metadata": {},
   "outputs": [
    {
     "name": "stdout",
     "output_type": "stream",
     "text": [
      "hello\n"
     ]
    }
   ],
   "source": [
    "# Creating String\n",
    "s = 'hello'\n",
    "s = \"hello\"\n",
    "s = \"\"\"hello\"\"\"\n",
    "s = '''hello'''\n",
    "s = str('hello')\n",
    "print(s)"
   ]
  },
  {
   "cell_type": "code",
   "execution_count": 6,
   "id": "01d180f1-d3df-4b14-8bdc-407ba6924ea3",
   "metadata": {},
   "outputs": [
    {
     "data": {
      "text/plain": [
       "\"it's raining outside\""
      ]
     },
     "execution_count": 6,
     "metadata": {},
     "output_type": "execute_result"
    }
   ],
   "source": [
    "\"it's raining outside\""
   ]
  },
  {
   "cell_type": "code",
   "execution_count": 7,
   "id": "d5de76d4-3823-42ce-b2a2-ceaf04724e59",
   "metadata": {},
   "outputs": [
    {
     "name": "stdout",
     "output_type": "stream",
     "text": [
      "h\n"
     ]
    }
   ],
   "source": [
    "# Accesssing Substrings from a string\n",
    "# Indexing\n",
    "s = 'hello world'\n",
    "print(s[0])"
   ]
  },
  {
   "cell_type": "code",
   "execution_count": 8,
   "id": "ab210cc1-3f51-4f80-8033-cdd74530c21c",
   "metadata": {},
   "outputs": [
    {
     "data": {
      "text/plain": [
       "'e'"
      ]
     },
     "execution_count": 8,
     "metadata": {},
     "output_type": "execute_result"
    }
   ],
   "source": [
    "s[1]"
   ]
  },
  {
   "cell_type": "code",
   "execution_count": 9,
   "id": "f2b5dd22-355b-4335-9a5a-547114cfb304",
   "metadata": {},
   "outputs": [
    {
     "data": {
      "text/plain": [
       "'d'"
      ]
     },
     "execution_count": 9,
     "metadata": {},
     "output_type": "execute_result"
    }
   ],
   "source": [
    "s[-1]"
   ]
  },
  {
   "cell_type": "code",
   "execution_count": 10,
   "id": "7fd8755a-3655-48e0-b729-fe83e8f6b378",
   "metadata": {},
   "outputs": [
    {
     "data": {
      "text/plain": [
       "'l'"
      ]
     },
     "execution_count": 10,
     "metadata": {},
     "output_type": "execute_result"
    }
   ],
   "source": [
    "s[-2]"
   ]
  },
  {
   "cell_type": "code",
   "execution_count": 11,
   "id": "e339426e-dd91-432e-9007-ca234fc1ed0a",
   "metadata": {},
   "outputs": [
    {
     "name": "stdout",
     "output_type": "stream",
     "text": [
      "hello\n"
     ]
    }
   ],
   "source": [
    "# slicing \n",
    "s = 'hello world'\n",
    "print(s[0:5])"
   ]
  },
  {
   "cell_type": "code",
   "execution_count": 12,
   "id": "f50ad63e-d95f-4fd0-9254-aab807b3f214",
   "metadata": {},
   "outputs": [
    {
     "data": {
      "text/plain": [
       "'hlow'"
      ]
     },
     "execution_count": 12,
     "metadata": {},
     "output_type": "execute_result"
    }
   ],
   "source": [
    "s[0:8:2]"
   ]
  },
  {
   "cell_type": "code",
   "execution_count": 13,
   "id": "d1dd3b23-983e-4205-a42e-a85b1bc5e31e",
   "metadata": {},
   "outputs": [
    {
     "data": {
      "text/plain": [
       "'hello world'"
      ]
     },
     "execution_count": 13,
     "metadata": {},
     "output_type": "execute_result"
    }
   ],
   "source": [
    "s[0:]"
   ]
  },
  {
   "cell_type": "code",
   "execution_count": 14,
   "id": "e5261ef2-db8e-4b6c-8dc6-37105fe135e1",
   "metadata": {},
   "outputs": [
    {
     "data": {
      "text/plain": [
       "'hlw'"
      ]
     },
     "execution_count": 14,
     "metadata": {},
     "output_type": "execute_result"
    }
   ],
   "source": [
    "s[0:9:3]"
   ]
  },
  {
   "cell_type": "code",
   "execution_count": 15,
   "id": "da62873d-026c-43d0-950d-77ac0cf54bdf",
   "metadata": {},
   "outputs": [
    {
     "data": {
      "text/plain": [
       "'hello world'"
      ]
     },
     "execution_count": 15,
     "metadata": {},
     "output_type": "execute_result"
    }
   ],
   "source": [
    "s[:]"
   ]
  },
  {
   "cell_type": "code",
   "execution_count": 16,
   "id": "0983ed0c-bc10-4252-a65c-c42c22187dba",
   "metadata": {},
   "outputs": [
    {
     "data": {
      "text/plain": [
       "'d'"
      ]
     },
     "execution_count": 16,
     "metadata": {},
     "output_type": "execute_result"
    }
   ],
   "source": [
    "s[-1]"
   ]
  },
  {
   "cell_type": "code",
   "execution_count": 17,
   "id": "7c49e9ea-5121-451a-a1c0-c5fcf0822567",
   "metadata": {},
   "outputs": [
    {
     "data": {
      "text/plain": [
       "'dlrow olleh'"
      ]
     },
     "execution_count": 17,
     "metadata": {},
     "output_type": "execute_result"
    }
   ],
   "source": [
    "s[::-1]"
   ]
  },
  {
   "cell_type": "code",
   "execution_count": 24,
   "id": "1d6c6ea7-542c-4c1d-acf5-765bda7dd803",
   "metadata": {},
   "outputs": [
    {
     "data": {
      "text/plain": [
       "'wol'"
      ]
     },
     "execution_count": 24,
     "metadata": {},
     "output_type": "execute_result"
    }
   ],
   "source": [
    "s[6:0:-2]"
   ]
  },
  {
   "cell_type": "code",
   "execution_count": 25,
   "id": "ccd42e86-8433-4ff0-82d1-b99234bdfacf",
   "metadata": {},
   "outputs": [
    {
     "data": {
      "text/plain": [
       "'r l'"
      ]
     },
     "execution_count": 25,
     "metadata": {},
     "output_type": "execute_result"
    }
   ],
   "source": [
    "s[8:0:-3]"
   ]
  },
  {
   "cell_type": "code",
   "execution_count": 27,
   "id": "0c3d4382-cd0a-4dcd-a413-1789a0af9586",
   "metadata": {},
   "outputs": [
    {
     "data": {
      "text/plain": [
       "'world'"
      ]
     },
     "execution_count": 27,
     "metadata": {},
     "output_type": "execute_result"
    }
   ],
   "source": [
    "s[-5:]"
   ]
  },
  {
   "cell_type": "code",
   "execution_count": 28,
   "id": "c00b5a9f-93ad-4ae0-8fcf-593a14050140",
   "metadata": {},
   "outputs": [
    {
     "data": {
      "text/plain": [
       "'dlrow'"
      ]
     },
     "execution_count": 28,
     "metadata": {},
     "output_type": "execute_result"
    }
   ],
   "source": [
    "s[-1:-6:-1]"
   ]
  },
  {
   "cell_type": "code",
   "execution_count": 31,
   "id": "11a0b3e0-64bd-4163-bee5-b6be574f7672",
   "metadata": {},
   "outputs": [
    {
     "name": "stdout",
     "output_type": "stream",
     "text": [
      " m\n"
     ]
    }
   ],
   "source": [
    "s = \"my name is amit\"\n",
    "print(s[-5:-1:2])"
   ]
  },
  {
   "cell_type": "code",
   "execution_count": 32,
   "id": "b6cc884e-ee61-4198-93a3-9f8bf4b8c2d6",
   "metadata": {},
   "outputs": [
    {
     "data": {
      "text/plain": [
       "'tm '"
      ]
     },
     "execution_count": 32,
     "metadata": {},
     "output_type": "execute_result"
    }
   ],
   "source": [
    "s[-1:-6:-2]"
   ]
  },
  {
   "cell_type": "code",
   "execution_count": 35,
   "id": "e7b7d98b-bbd8-43c4-ba90-caa4f49d6647",
   "metadata": {},
   "outputs": [],
   "source": [
    "# Editing and Deleting in String\n",
    "s = \"hello world\"\n",
    "#s[0] = 'H'\n",
    "# python strings are immutable it is not mutable we can not edit the string"
   ]
  },
  {
   "cell_type": "code",
   "execution_count": 38,
   "id": "d46edf32-9c58-47bf-a5fc-9367ba6e33da",
   "metadata": {},
   "outputs": [],
   "source": [
    "s = \"hello world\"\n",
    "del s\n",
    "#print(s)"
   ]
  },
  {
   "cell_type": "code",
   "execution_count": 41,
   "id": "e462d878-2196-4808-86d6-46a3e9d38c14",
   "metadata": {},
   "outputs": [
    {
     "name": "stdout",
     "output_type": "stream",
     "text": [
      "hello world\n"
     ]
    }
   ],
   "source": [
    "s = \"hello world\"\n",
    "#del s[-1:-5:2]\n",
    "print(s)"
   ]
  },
  {
   "cell_type": "markdown",
   "id": "7e8db14a-5a98-4c11-9ed6-dc6c32c6a412",
   "metadata": {},
   "source": [
    "# Operations on string"
   ]
  },
  {
   "cell_type": "code",
   "execution_count": 42,
   "id": "f63d3ca2-3951-4198-ab78-a39e7a426ce3",
   "metadata": {},
   "outputs": [
    {
     "name": "stdout",
     "output_type": "stream",
     "text": [
      "delhimumbai\n"
     ]
    }
   ],
   "source": [
    "# Arithmetic operators\n",
    "print('delhi' + 'mumbai')"
   ]
  },
  {
   "cell_type": "code",
   "execution_count": 48,
   "id": "86d05d2c-449e-41f1-8292-a09cb6131ecf",
   "metadata": {},
   "outputs": [
    {
     "name": "stdout",
     "output_type": "stream",
     "text": [
      "delhidelhidelhi\n"
     ]
    }
   ],
   "source": [
    "print('delhi'*3)"
   ]
  },
  {
   "cell_type": "code",
   "execution_count": 45,
   "id": "b25ca4c7-c801-4222-a05f-21bd11e35a39",
   "metadata": {},
   "outputs": [
    {
     "name": "stdout",
     "output_type": "stream",
     "text": [
      "**************************************************\n"
     ]
    }
   ],
   "source": [
    "print('*' * 50)"
   ]
  },
  {
   "cell_type": "code",
   "execution_count": null,
   "id": "908125a1-ddf4-4769-889c-68bc39ff4d32",
   "metadata": {},
   "outputs": [],
   "source": []
  }
 ],
 "metadata": {
  "kernelspec": {
   "display_name": "Python 3 (ipykernel)",
   "language": "python",
   "name": "python3"
  },
  "language_info": {
   "codemirror_mode": {
    "name": "ipython",
    "version": 3
   },
   "file_extension": ".py",
   "mimetype": "text/x-python",
   "name": "python",
   "nbconvert_exporter": "python",
   "pygments_lexer": "ipython3",
   "version": "3.10.8"
  }
 },
 "nbformat": 4,
 "nbformat_minor": 5
}
